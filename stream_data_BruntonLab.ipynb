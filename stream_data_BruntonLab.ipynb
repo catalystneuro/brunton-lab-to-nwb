{
 "cells": [
  {
   "cell_type": "code",
   "execution_count": 1,
   "metadata": {},
   "outputs": [],
   "source": [
    "cd C:\\Users\\micha\\Dropbox\\Catalyst Neuro\\repos\\brunton-lab-to-nwb"
   ]
  },
  {
   "cell_type": "code",
   "execution_count": 2,
   "metadata": {},
   "outputs": [],
   "source": [
    "from pynwb import NWBHDF5IO\n",
    "\n",
    "from nwbwidgets import nwb2widget\n",
    "from nwbwidgets.brains import HumanElectrodesPlotlyWidget\n",
    "from nwbwidgets.utils.timeseries import get_timeseries_tt\n",
    "\n",
    "import numpy as np\n",
    "import pandas as pd\n",
    "import matplotlib.pyplot as plt\n",
    "\n",
    "from datetime import datetime\n",
    "from ndx_events import LabeledEvents, AnnotatedEventsTable, Events\n",
    "\n",
    "from brunton_lab_to_nwb.brunton_widgets import JointPosPSTHWidget, BruntonDashboard\n",
    "\n",
    "path = \"https://dandiarchive.s3.amazonaws.com/girder-assetstore/58/07/58074d0a5a4a4086afebb4d29912c419\"\n",
    "\n",
    "io = NWBHDF5IO(path, mode='r', load_namespaces=True, driver='ros3')"
   ]
  },
  {
   "cell_type": "code",
   "execution_count": null,
   "metadata": {},
   "outputs": [],
   "source": [
    "nwb = io.read()\n",
    "nwb2widget(nwb)"
   ]
  },
  {
   "cell_type": "code",
   "execution_count": 3,
   "metadata": {
    "scrolled": false
   },
   "outputs": [
    {
     "data": {
      "application/vnd.jupyter.widget-view+json": {
       "model_id": "ea875aa139684ae3b5bf7ca2963bd611",
       "version_major": 2,
       "version_minor": 0
      },
      "text/plain": [
       "JointPosPSTHWidget(children=(VBox(children=(FloatText(value=0.5, description='before (s)', layout=Layout(width…"
      ]
     },
     "metadata": {},
     "output_type": "display_data"
    }
   ],
   "source": [
    "JointPosPSTHWidget(nwb.processing['behavior'].data_interfaces['ReachEvents'],\n",
    "                   nwb.processing['behavior'].data_interfaces['Position'])"
   ]
  },
  {
   "cell_type": "code",
   "execution_count": null,
   "metadata": {},
   "outputs": [],
   "source": [
    "BruntonDashboard(nwb)"
   ]
  },
  {
   "cell_type": "code",
   "execution_count": null,
   "metadata": {},
   "outputs": [],
   "source": []
  },
  {
   "cell_type": "code",
   "execution_count": null,
   "metadata": {},
   "outputs": [],
   "source": []
  }
 ],
 "metadata": {
  "kernelspec": {
   "display_name": "Python 3",
   "language": "python",
   "name": "python3"
  },
  "language_info": {
   "codemirror_mode": {
    "name": "ipython",
    "version": 3
   },
   "file_extension": ".py",
   "mimetype": "text/x-python",
   "name": "python",
   "nbconvert_exporter": "python",
   "pygments_lexer": "ipython3",
   "version": "3.7.6"
  }
 },
 "nbformat": 4,
 "nbformat_minor": 4
}
